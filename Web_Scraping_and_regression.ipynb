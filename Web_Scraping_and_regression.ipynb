{
  "nbformat": 4,
  "nbformat_minor": 0,
  "metadata": {
    "colab": {
      "name": "Web_Scraping_and_regression.ipynb",
      "provenance": [],
      "include_colab_link": true
    },
    "kernelspec": {
      "display_name": "Python 3",
      "language": "python",
      "name": "python3"
    },
    "language_info": {
      "codemirror_mode": {
        "name": "ipython",
        "version": 3
      },
      "file_extension": ".py",
      "mimetype": "text/x-python",
      "name": "python",
      "nbconvert_exporter": "python",
      "pygments_lexer": "ipython3",
      "version": "3.8.8"
    }
  },
  "cells": [
    {
      "cell_type": "markdown",
      "metadata": {
        "id": "view-in-github",
        "colab_type": "text"
      },
      "source": [
        "<a href=\"https://colab.research.google.com/github/NadAAaHH/SDAIA-T5-NBM_Project/blob/main/Web_Scraping_and_regression.ipynb\" target=\"_parent\"><img src=\"https://colab.research.google.com/assets/colab-badge.svg\" alt=\"Open In Colab\"/></a>"
      ]
    },
    {
      "cell_type": "markdown",
      "metadata": {
        "id": "H8YbRvGBsNIF"
      },
      "source": [
        "**Step 1:** Importing the libraries"
      ]
    },
    {
      "cell_type": "code",
      "metadata": {
        "id": "HjTmZyFBsMav"
      },
      "source": [
        "from bs4 import BeautifulSoup\n",
        "import requests\n",
        "import time, os\n",
        "from selenium.common.exceptions import NoSuchElementException\n",
        "from selenium import webdriver\n",
        "from selenium.webdriver.common.keys import Keys\n",
        "from selenium.webdriver.support.ui import WebDriverWait\n",
        "from selenium.webdriver.support import expected_conditions as EC\n",
        "from selenium.webdriver.common.by import By\n",
        "import random\n",
        "import numpy as np"
      ],
      "execution_count": null,
      "outputs": []
    },
    {
      "cell_type": "markdown",
      "metadata": {
        "id": "L0gHQBYHJYqG"
      },
      "source": [
        "**Step 2:** Scraping Google to get Linkedin urls"
      ]
    },
    {
      "cell_type": "code",
      "metadata": {
        "id": "d9qTjkDPJYqG"
      },
      "source": [
        "chromedriver = r\"path to the chromedriver executable\" \n",
        "os.environ[\"webdriver.chrome.driver\"] = chromedriver\n",
        "driver = webdriver.Chrome(chromedriver)"
      ],
      "execution_count": null,
      "outputs": []
    },
    {
      "cell_type": "code",
      "metadata": {
        "id": "VeGWhD1AJYqH"
      },
      "source": [
        "driver.get('https://google.com')\n",
        "time.sleep(2)"
      ],
      "execution_count": null,
      "outputs": []
    },
    {
      "cell_type": "code",
      "metadata": {
        "id": "YPyGyDdYJYqH"
      },
      "source": [
        "search_query = driver.find_element_by_name('q')\n",
        "search_query.send_keys('site:linkedin.com/in/')\n",
        "time.sleep(1)"
      ],
      "execution_count": null,
      "outputs": []
    },
    {
      "cell_type": "code",
      "metadata": {
        "id": "cE8p0M_3JYqI"
      },
      "source": [
        "search_query.submit()\n",
        "time.sleep(2.5)"
      ],
      "execution_count": null,
      "outputs": []
    },
    {
      "cell_type": "code",
      "metadata": {
        "id": "wZF1IcgRJYqJ"
      },
      "source": [
        "lst = []"
      ],
      "execution_count": null,
      "outputs": []
    },
    {
      "cell_type": "code",
      "metadata": {
        "id": "Dy4lqU6WJYqK"
      },
      "source": [
        "def getUrls(n):\n",
        "    while len(urls) < n:  \n",
        "        soup = BeautifulSoup(driver.page_source, 'html.parser')\n",
        "        tags = soup.find_all('div', class_='yuRUbf')\n",
        "        urls.append([tag.find('a').get('href') for tag in tags])\n",
        "        time.sleep(np.random.uniform(10, 20))\n",
        "        next_btn = driver.find_element_by_xpath('/html/body/div[7]/div/div[9]/div[1]/div/div[6]/span[1]/table/tbody/tr/td[12]/a/span[2]/span')\n",
        "        next_btn.click();\n",
        "    flat_list = [j for i in urls for j in i]\n",
        "    return flat_list"
      ],
      "execution_count": null,
      "outputs": []
    },
    {
      "cell_type": "code",
      "metadata": {
        "id": "MtgLb958JYqL"
      },
      "source": [
        "# specify the number of urls you want to get (e.g. passing 2 will return 20 url)\n",
        "lst.append(getUrls(2))\n",
        "lst = list(lst[0])"
      ],
      "execution_count": null,
      "outputs": []
    },
    {
      "cell_type": "code",
      "metadata": {
        "id": "j10E-ZtXJYqL"
      },
      "source": [
        "# save the urls into a file\n",
        "textfile = open(\"urls.txt\", \"w\")\n",
        "\n",
        "for i in lst:\n",
        "    textfile.write(i + \"\\n\")\n",
        "textfile.close()"
      ],
      "execution_count": null,
      "outputs": []
    },
    {
      "cell_type": "code",
      "metadata": {
        "id": "lkeHSKNFJYqL"
      },
      "source": [
        "driver.quit()"
      ],
      "execution_count": null,
      "outputs": []
    },
    {
      "cell_type": "markdown",
      "metadata": {
        "id": "BSGjPb8MsXJw"
      },
      "source": [
        "**Step 3:** Scraping Linkedin to get the data"
      ]
    },
    {
      "cell_type": "code",
      "metadata": {
        "id": "VXm3OJf8JYqM"
      },
      "source": [
        "chromedriver = r\"path to the chromedriver executable\" \n",
        "os.environ[\"webdriver.chrome.driver\"] = chromedriver\n",
        "driver = webdriver.Chrome(chromedriver)"
      ],
      "execution_count": null,
      "outputs": []
    },
    {
      "cell_type": "code",
      "metadata": {
        "id": "T3ELJtFZJYqM"
      },
      "source": [
        "def login_to_linkedin(username, password):\n",
        "    url = \"https://www.linkedin.com/login?\"\n",
        "    driver.get(url)\n",
        "    time.sleep(1)\n",
        "    \n",
        "    username_box = driver.find_element_by_xpath('/html/body/div/main/div[2]/div[1]/form/div[1]/input')\n",
        "    username_box.send_keys(username)\n",
        "\n",
        "    password_box = driver.find_element_by_xpath('/html/body/div/main/div[2]/div[1]/form/div[2]/input')\n",
        "    password_box.send_keys(password)\n",
        "\n",
        "    # hit enter\n",
        "    enter_btn = driver.find_element_by_xpath('/html/body/div/main/div[2]/div[1]/form/div[3]/button')\n",
        "    enter_btn.click()\n",
        "\n",
        "    time.sleep(1)"
      ],
      "execution_count": null,
      "outputs": []
    },
    {
      "cell_type": "code",
      "metadata": {
        "id": "dilHC90HJYqM"
      },
      "source": [
        "# linkedin login credentials\n",
        "login_to_linkedin('username', 'password')"
      ],
      "execution_count": null,
      "outputs": []
    },
    {
      "cell_type": "code",
      "metadata": {
        "id": "cG1ugsBrJYqN"
      },
      "source": [
        "import pandas as pd"
      ],
      "execution_count": null,
      "outputs": []
    },
    {
      "cell_type": "code",
      "metadata": {
        "id": "F8ywkBKiJYqN"
      },
      "source": [
        "df = pd.DataFrame(columns = [\"total_followers\", \"posted_since\", \"total_posts\", \"likes\"])"
      ],
      "execution_count": null,
      "outputs": []
    },
    {
      "cell_type": "code",
      "metadata": {
        "id": "PzD6qHreJYqN"
      },
      "source": [
        "def get_posts(df, profile_url):\n",
        "    \n",
        "    # define an empty dictionary to be filled later\n",
        "    dict_row = {\"total_followers\": None, \"posted_since\": None, \"total_posts\": None, \"likes\": None}\n",
        "    \n",
        "    # go to profile page\n",
        "    driver.get(profile_url);\n",
        "    time.sleep(2)\n",
        "    \n",
        "    # smooth scroll \n",
        "    scheight = .1\n",
        "    while scheight < 9:\n",
        "        driver.execute_script(\"window.scrollTo(0, document.body.scrollHeight/%s);\" % scheight)\n",
        "        scheight += .01\n",
        "    \n",
        "    # get the number of followers\n",
        "    soup = BeautifulSoup(driver.page_source, 'html.parser')\n",
        "    total_followers = soup.find('span', class_='align-self-center t-14 t-black--light').text.split()[0]\n",
        "    time.sleep(5)\n",
        "    \n",
        "    # direct to posts page\n",
        "    get_posts = profile_url + \"/detail/recent-activity/shares/\".replace(' ', '+')\n",
        "    driver.get(get_posts);\n",
        "    time.sleep(5)\n",
        "    \n",
        "    # smooth scroll\n",
        "    scheight = 6\n",
        "    while scheight > 1.5:\n",
        "        driver.execute_script(\"window.scrollTo(0, document.body.scrollHeight/%s);\" % scheight)\n",
        "        scheight -= .1\n",
        "            \n",
        "    # scroll to the end of posts\n",
        "    try:\n",
        "        while driver.find_element_by_css_selector(\"button.artdeco-button.artdeco-button--muted.artdeco-button--1.artdeco-button--full.artdeco-button--secondary.ember-view\"):\n",
        "            time.sleep(1)\n",
        "            scheight = 6\n",
        "            while scheight > 1.5:\n",
        "                driver.execute_script(\"window.scrollTo(0, document.body.scrollHeight/%s);\" % scheight)\n",
        "                scheight -= .1\n",
        "            time.sleep(2)       \n",
        "            # scroll to last post\n",
        "            if driver.find_element_by_css_selector(\"button.artdeco-button.artdeco-button--muted.artdeco-button--1.artdeco-button--full.artdeco-button--secondary.ember-view\"):\n",
        "                element = driver.find_element_by_css_selector(\"button.artdeco-button.artdeco-button--muted.artdeco-button--1.artdeco-button--full.artdeco-button--secondary.ember-view\")\n",
        "                driver.execute_script(\"arguments[0].click();\", element)\n",
        "            \n",
        "    except NoSuchElementException:\n",
        "        pass\n",
        "    \n",
        "    \n",
        "    soup = BeautifulSoup(driver.page_source, 'html.parser')\n",
        "    # get how old each post is\n",
        "    lst_howold = []\n",
        "    for tag in soup.find_all('span', class_='feed-shared-actor__sub-description t-12 t-normal t-black--light'):\n",
        "        for i in tag.find_all('span', class_=\"visually-hidden\"):\n",
        "            # to exclude inner posts\n",
        "            if i.parent.parent.parent.parent.parent.parent.get('class') == None:\n",
        "                lst_howold.append(i.text)\n",
        "                        \n",
        "    # get the number of likes of each post\n",
        "    lst_reactions = []\n",
        "    lst_reactions = [i.text for i in soup.find_all('span', class_='v-align-middle social-details-social-counts__reactions-count')]\n",
        "            \n",
        "    # get the total number of posts\n",
        "    total_posts = len(lst_reactions)\n",
        "    \n",
        "    time.sleep(5)\n",
        "    \n",
        "    # fill the dictionary with the collected data\n",
        "    if lst_howold:\n",
        "        for date, like in zip(lst_howold, lst_reactions):\n",
        "            dict_row['total_followers'] = total_followers\n",
        "            dict_row['total_posts'] = total_posts\n",
        "            dict_row['posted_since'] = date\n",
        "            dict_row['likes'] = like\n",
        "            df = df.append(dict_row, ignore_index=True)\n",
        "    return df"
      ],
      "execution_count": null,
      "outputs": []
    },
    {
      "cell_type": "code",
      "metadata": {
        "id": "gPhrrOlAJYqO"
      },
      "source": [
        "# reading collected linkedin urls\n",
        "my_file = open(r\"urls.txt\", \"r\")\n",
        "LinkedIn_profiles = my_file.readlines()"
      ],
      "execution_count": null,
      "outputs": []
    },
    {
      "cell_type": "code",
      "metadata": {
        "id": "L6hI-6RKJYqP",
        "outputId": "ee9e1b5e-2bdb-4627-b750-c43f1bdde118"
      },
      "source": [
        "# pass urls to function (specify the number of profiles you want to scrape in range\n",
        "for i in range(4,7):\n",
        "    returned_df = get_posts(df, LinkedIn_profiles[i][:-1])\n",
        "    print(returned_df)\n",
        "    returned_df.to_csv (r'profiles.csv', index = None, header=True, mode='a')"
      ],
      "execution_count": null,
      "outputs": [
        {
          "name": "stdout",
          "output_type": "stream",
          "text": [
            "Empty DataFrame\n",
            "Columns: [total_followers, posted_since, total_posts, likes]\n",
            "Index: []\n",
            "  total_followers posted_since total_posts likes\n",
            "0             996  3 years ago           1    22\n",
            "Empty DataFrame\n",
            "Columns: [total_followers, posted_since, total_posts, likes]\n",
            "Index: []\n"
          ]
        }
      ]
    },
    {
      "cell_type": "code",
      "metadata": {
        "id": "sHc2nMx1JYqP"
      },
      "source": [
        "driver.quit()"
      ],
      "execution_count": null,
      "outputs": []
    },
    {
      "cell_type": "markdown",
      "metadata": {
        "id": "LaCLTOvBJYqP"
      },
      "source": [
        "**Step 4:** Preparing the dataset"
      ]
    },
    {
      "cell_type": "code",
      "metadata": {
        "id": "KnfEBw-EJYqQ"
      },
      "source": [
        "df = pd.read_csv('profiles.csv')"
      ],
      "execution_count": null,
      "outputs": []
    },
    {
      "cell_type": "code",
      "metadata": {
        "id": "22wcN7m4JYqQ",
        "outputId": "a24b3411-8d6f-4e0f-f39d-6174bf51946d"
      },
      "source": [
        "df.info()"
      ],
      "execution_count": null,
      "outputs": [
        {
          "name": "stdout",
          "output_type": "stream",
          "text": [
            "<class 'pandas.core.frame.DataFrame'>\n",
            "RangeIndex: 1753 entries, 0 to 1752\n",
            "Data columns (total 4 columns):\n",
            " #   Column           Non-Null Count  Dtype \n",
            "---  ------           --------------  ----- \n",
            " 0   total_followers  1753 non-null   object\n",
            " 1   posted_since     1753 non-null   object\n",
            " 2   total_posts      1753 non-null   object\n",
            " 3   likes            1753 non-null   object\n",
            "dtypes: object(4)\n",
            "memory usage: 54.9+ KB\n"
          ]
        }
      ]
    },
    {
      "cell_type": "code",
      "metadata": {
        "id": "aySUiIxfJYqQ"
      },
      "source": [
        "# drop nonnumerical rows and reset index\n",
        "df.drop(df[df.total_followers == 'total_followers'].index, inplace=True)\n",
        "df.reset_index(drop=True, inplace=True)"
      ],
      "execution_count": null,
      "outputs": []
    },
    {
      "cell_type": "code",
      "metadata": {
        "id": "wZqGVQupJYqQ"
      },
      "source": [
        "# convert all time units to days\n",
        "for i, row in df.iterrows():\n",
        "    if 'year' in row.posted_since:\n",
        "        df.at[i,'posted_since'] = int(row.posted_since[0]) * 365\n",
        "    elif 'month' in row.posted_since:\n",
        "        df.at[i,'posted_since'] = int(row.posted_since[0]) * 30\n",
        "    elif 'day' in row.posted_since:\n",
        "        df.at[i,'posted_since'] = int(row.posted_since[0])\n",
        "    elif 'week' in row.posted_since:\n",
        "        df.at[i,'posted_since'] = int(row.posted_since[0]) * 7\n",
        "    elif 'hour' in row.posted_since:\n",
        "        df.at[i,'posted_since'] = int(row.posted_since[0]) * 0.0416666667"
      ],
      "execution_count": null,
      "outputs": []
    },
    {
      "cell_type": "code",
      "metadata": {
        "id": "87qXdpsdJYqQ",
        "outputId": "e9ad69a2-57f9-4f07-ec45-30c88d485f5d"
      },
      "source": [
        "df.dtypes"
      ],
      "execution_count": null,
      "outputs": [
        {
          "data": {
            "text/plain": [
              "total_followers    object\n",
              "posted_since       object\n",
              "total_posts        object\n",
              "likes              object\n",
              "dtype: object"
            ]
          },
          "execution_count": 212,
          "metadata": {},
          "output_type": "execute_result"
        }
      ]
    },
    {
      "cell_type": "code",
      "metadata": {
        "id": "Yt6qKrWcJYqR"
      },
      "source": [
        "# removing commas from numbers\n",
        "for i, row in df.iterrows():\n",
        "    df.at[i,'total_followers'] = row.total_followers.replace(',', '')\n",
        "    df.at[i,'likes'] = row.likes.replace(',', '')"
      ],
      "execution_count": null,
      "outputs": []
    },
    {
      "cell_type": "code",
      "metadata": {
        "id": "FKjMWelfJYqR"
      },
      "source": [
        "# converting all columns to numeric types\n",
        "for i in df.columns:\n",
        "    df[i] = pd.to_numeric(df[i])"
      ],
      "execution_count": null,
      "outputs": []
    },
    {
      "cell_type": "code",
      "metadata": {
        "id": "h9mqcFeGJYqR",
        "outputId": "52b8ac5b-1156-43df-ab95-fc84f06d52e8"
      },
      "source": [
        "df.dtypes"
      ],
      "execution_count": null,
      "outputs": [
        {
          "data": {
            "text/plain": [
              "total_followers      int64\n",
              "posted_since       float64\n",
              "total_posts          int64\n",
              "likes                int64\n",
              "dtype: object"
            ]
          },
          "execution_count": 215,
          "metadata": {},
          "output_type": "execute_result"
        }
      ]
    },
    {
      "cell_type": "code",
      "metadata": {
        "id": "UqHbCncSJYqR",
        "outputId": "f4b778a9-6890-4641-ccc5-74f648099ef4"
      },
      "source": [
        "df.head()"
      ],
      "execution_count": null,
      "outputs": [
        {
          "data": {
            "text/html": [
              "<div>\n",
              "<style scoped>\n",
              "    .dataframe tbody tr th:only-of-type {\n",
              "        vertical-align: middle;\n",
              "    }\n",
              "\n",
              "    .dataframe tbody tr th {\n",
              "        vertical-align: top;\n",
              "    }\n",
              "\n",
              "    .dataframe thead th {\n",
              "        text-align: right;\n",
              "    }\n",
              "</style>\n",
              "<table border=\"1\" class=\"dataframe\">\n",
              "  <thead>\n",
              "    <tr style=\"text-align: right;\">\n",
              "      <th></th>\n",
              "      <th>total_followers</th>\n",
              "      <th>posted_since</th>\n",
              "      <th>total_posts</th>\n",
              "      <th>likes</th>\n",
              "    </tr>\n",
              "  </thead>\n",
              "  <tbody>\n",
              "    <tr>\n",
              "      <th>0</th>\n",
              "      <td>1200</td>\n",
              "      <td>1460.0</td>\n",
              "      <td>2</td>\n",
              "      <td>4</td>\n",
              "    </tr>\n",
              "    <tr>\n",
              "      <th>1</th>\n",
              "      <td>1200</td>\n",
              "      <td>1460.0</td>\n",
              "      <td>2</td>\n",
              "      <td>1</td>\n",
              "    </tr>\n",
              "    <tr>\n",
              "      <th>2</th>\n",
              "      <td>5013</td>\n",
              "      <td>7.0</td>\n",
              "      <td>39</td>\n",
              "      <td>7</td>\n",
              "    </tr>\n",
              "    <tr>\n",
              "      <th>3</th>\n",
              "      <td>5013</td>\n",
              "      <td>7.0</td>\n",
              "      <td>39</td>\n",
              "      <td>33</td>\n",
              "    </tr>\n",
              "    <tr>\n",
              "      <th>4</th>\n",
              "      <td>5013</td>\n",
              "      <td>7.0</td>\n",
              "      <td>39</td>\n",
              "      <td>13</td>\n",
              "    </tr>\n",
              "  </tbody>\n",
              "</table>\n",
              "</div>"
            ],
            "text/plain": [
              "   total_followers  posted_since  total_posts  likes\n",
              "0             1200        1460.0            2      4\n",
              "1             1200        1460.0            2      1\n",
              "2             5013           7.0           39      7\n",
              "3             5013           7.0           39     33\n",
              "4             5013           7.0           39     13"
            ]
          },
          "execution_count": 216,
          "metadata": {},
          "output_type": "execute_result"
        }
      ]
    },
    {
      "cell_type": "code",
      "metadata": {
        "id": "vRwzpMcZJYqR",
        "outputId": "5c6517a8-18af-46c9-893b-3ca0e21c929f"
      },
      "source": [
        "df.describe()"
      ],
      "execution_count": null,
      "outputs": [
        {
          "data": {
            "text/html": [
              "<div>\n",
              "<style scoped>\n",
              "    .dataframe tbody tr th:only-of-type {\n",
              "        vertical-align: middle;\n",
              "    }\n",
              "\n",
              "    .dataframe tbody tr th {\n",
              "        vertical-align: top;\n",
              "    }\n",
              "\n",
              "    .dataframe thead th {\n",
              "        text-align: right;\n",
              "    }\n",
              "</style>\n",
              "<table border=\"1\" class=\"dataframe\">\n",
              "  <thead>\n",
              "    <tr style=\"text-align: right;\">\n",
              "      <th></th>\n",
              "      <th>total_followers</th>\n",
              "      <th>posted_since</th>\n",
              "      <th>total_posts</th>\n",
              "      <th>likes</th>\n",
              "    </tr>\n",
              "  </thead>\n",
              "  <tbody>\n",
              "    <tr>\n",
              "      <th>count</th>\n",
              "      <td>1706.000000</td>\n",
              "      <td>1706.000000</td>\n",
              "      <td>1706.000000</td>\n",
              "      <td>1706.000000</td>\n",
              "    </tr>\n",
              "    <tr>\n",
              "      <th>mean</th>\n",
              "      <td>59989.138335</td>\n",
              "      <td>360.555906</td>\n",
              "      <td>200.209848</td>\n",
              "      <td>62.476553</td>\n",
              "    </tr>\n",
              "    <tr>\n",
              "      <th>std</th>\n",
              "      <td>99825.127012</td>\n",
              "      <td>338.706635</td>\n",
              "      <td>163.260005</td>\n",
              "      <td>115.199680</td>\n",
              "    </tr>\n",
              "    <tr>\n",
              "      <th>min</th>\n",
              "      <td>203.000000</td>\n",
              "      <td>0.375000</td>\n",
              "      <td>1.000000</td>\n",
              "      <td>1.000000</td>\n",
              "    </tr>\n",
              "    <tr>\n",
              "      <th>25%</th>\n",
              "      <td>2924.000000</td>\n",
              "      <td>120.000000</td>\n",
              "      <td>37.000000</td>\n",
              "      <td>6.000000</td>\n",
              "    </tr>\n",
              "    <tr>\n",
              "      <th>50%</th>\n",
              "      <td>7225.000000</td>\n",
              "      <td>365.000000</td>\n",
              "      <td>133.000000</td>\n",
              "      <td>21.000000</td>\n",
              "    </tr>\n",
              "    <tr>\n",
              "      <th>75%</th>\n",
              "      <td>13315.500000</td>\n",
              "      <td>365.000000</td>\n",
              "      <td>358.000000</td>\n",
              "      <td>68.000000</td>\n",
              "    </tr>\n",
              "    <tr>\n",
              "      <th>max</th>\n",
              "      <td>240837.000000</td>\n",
              "      <td>2555.000000</td>\n",
              "      <td>398.000000</td>\n",
              "      <td>1506.000000</td>\n",
              "    </tr>\n",
              "  </tbody>\n",
              "</table>\n",
              "</div>"
            ],
            "text/plain": [
              "       total_followers  posted_since  total_posts        likes\n",
              "count      1706.000000   1706.000000  1706.000000  1706.000000\n",
              "mean      59989.138335    360.555906   200.209848    62.476553\n",
              "std       99825.127012    338.706635   163.260005   115.199680\n",
              "min         203.000000      0.375000     1.000000     1.000000\n",
              "25%        2924.000000    120.000000    37.000000     6.000000\n",
              "50%        7225.000000    365.000000   133.000000    21.000000\n",
              "75%       13315.500000    365.000000   358.000000    68.000000\n",
              "max      240837.000000   2555.000000   398.000000  1506.000000"
            ]
          },
          "execution_count": 217,
          "metadata": {},
          "output_type": "execute_result"
        }
      ]
    },
    {
      "cell_type": "markdown",
      "metadata": {
        "id": "pnRkVjPDJYqR"
      },
      "source": [
        "**Step 5:** Building the model"
      ]
    },
    {
      "cell_type": "code",
      "metadata": {
        "id": "9UAJi6H6JYqR"
      },
      "source": [
        "import seaborn as sns\n",
        "import matplotlib.pyplot as plt\n",
        "from sklearn.linear_model import LinearRegression, Lasso, Ridge, ElasticNet, LogisticRegression\n",
        "from sklearn.model_selection import train_test_split, KFold, cross_val_score, GridSearchCV\n",
        "from sklearn.preprocessing import PolynomialFeatures\n",
        "from sklearn.pipeline import make_union\n",
        "import pandas as pd\n",
        "import seaborn as sns\n",
        "from sklearn.metrics import mean_absolute_error, mean_squared_error, r2_score\n",
        "import numpy as np"
      ],
      "execution_count": null,
      "outputs": []
    },
    {
      "cell_type": "code",
      "metadata": {
        "id": "dQkhKyd7JYqS",
        "outputId": "31f0c73a-3642-4039-aff5-b79710b36f79"
      },
      "source": [
        "sns.heatmap(df.corr(), annot=True, cmap = \"Blues\");"
      ],
      "execution_count": null,
      "outputs": [
        {
          "data": {
            "image/png": "[encoded data removed]",
            "text/plain": [
              "<Figure size 432x288 with 2 Axes>"
            ]
          },
          "metadata": {
            "needs_background": "light"
          },
          "output_type": "display_data"
        }
      ]
    },
    {
      "cell_type": "code",
      "metadata": {
        "id": "xEu24h-RJYqS"
      },
      "source": [
        "# separate features from target\n",
        "X = df[['total_followers', 'posted_since', 'total_posts']]\n",
        "y = df.likes"
      ],
      "execution_count": null,
      "outputs": []
    },
    {
      "cell_type": "code",
      "metadata": {
        "scrolled": true,
        "id": "Le5EuM08JYqS",
        "outputId": "491a520e-ccfa-4517-98a7-813666248e68"
      },
      "source": [
        "# plot the target with the total number of followers feature\n",
        "plt.figure(figsize=(10, 8))\n",
        "plt.scatter(X.total_followers , y)\n",
        "plt.ylabel('Likes')\n",
        "plt.xlabel('Total followers')\n",
        "plt.savefig('With_outliers.png', transparent = False)\n",
        "plt.show()"
      ],
      "execution_count": null,
      "outputs": [
        {
          "data": {
            "image/png": "[encoded data removed]",
            "text/plain": [
              "<Figure size 720x576 with 1 Axes>"
            ]
          },
          "metadata": {
            "needs_background": "light"
          },
          "output_type": "display_data"
        }
      ]
    },
    {
      "cell_type": "code",
      "metadata": {
        "id": "TCfO0yEYJYqS"
      },
      "source": [
        "# exclude outliers\n",
        "c = X.total_followers[X.total_followers < 10000]"
      ],
      "execution_count": null,
      "outputs": []
    },
    {
      "cell_type": "code",
      "metadata": {
        "id": "lNaNHLsLJYqS",
        "outputId": "29383846-8e37-4a4b-a9ad-2b7be1f65ccf"
      },
      "source": [
        "plt.figure(figsize=(10, 8))\n",
        "plt.scatter(X.total_followers[c.index] , y[c.index])\n",
        "plt.ylabel('Likes')\n",
        "plt.xlabel('Total followers')\n",
        "plt.savefig('Without_outliers.png', transparent = False)\n",
        "plt.show()"
      ],
      "execution_count": null,
      "outputs": [
        {
          "data": {
            "image/png": "[encoded data removed]",
            "text/plain": [
              "<Figure size 720x576 with 1 Axes>"
            ]
          },
          "metadata": {
            "needs_background": "light"
          },
          "output_type": "display_data"
        }
      ]
    },
    {
      "cell_type": "code",
      "metadata": {
        "id": "p29bARIHJYqT",
        "outputId": "522e69f8-079d-40cb-f07f-5fde4f7246d5"
      },
      "source": [
        "# plot the target with the posted since feature\n",
        "plt.figure(figsize=(10, 8))\n",
        "plt.scatter(X.posted_since , y, color = '#88c999')\n",
        "plt.ylabel('Likes')\n",
        "plt.xlabel('Posted since (Days)')\n",
        "plt.savefig('plt2.png', transparent = False)\n",
        "plt.show()"
      ],
      "execution_count": null,
      "outputs": [
        {
          "data": {
            "image/png": "[encoded data removed]",
            "text/plain": [
              "<Figure size 720x576 with 1 Axes>"
            ]
          },
          "metadata": {
            "needs_background": "light"
          },
          "output_type": "display_data"
        }
      ]
    },
    {
      "cell_type": "code",
      "metadata": {
        "id": "c6P6sNIrJYqT"
      },
      "source": [
        "# splitting the data to 70% train - 30% test\n",
        "X_train, X_test, y_train, y_test = train_test_split(X, y, test_size=0.3, random_state=42)"
      ],
      "execution_count": null,
      "outputs": []
    },
    {
      "cell_type": "code",
      "metadata": {
        "id": "NLhwlxETJYqT",
        "outputId": "c00601b4-341b-4ffc-91be-94a35f6e7946"
      },
      "source": [
        "# build a Linear regression model\n",
        "m = LinearRegression()\n",
        "m.fit(X_train, y_train)\n",
        "print('Accuracy:', m.score(X_test, y_test))\n",
        "print('Mean Absolute Error:', mean_absolute_error(m.predict(X_test), y_test))  "
      ],
      "execution_count": null,
      "outputs": [
        {
          "name": "stdout",
          "output_type": "stream",
          "text": [
            "Accuracy: 0.20309526074697615\n",
            "Mean Absolute Error: 51.26529347630574\n"
          ]
        }
      ]
    },
    {
      "cell_type": "code",
      "metadata": {
        "id": "K7u9Hh98JYqT",
        "outputId": "7c1b50c0-7a43-4e07-ec52-20dacc464577"
      },
      "source": [
        "# Experiment 1: try a Linear regression model with polynomial features with degree = 3\n",
        "poly = PolynomialFeatures(degree=3)\n",
        "X_train_poly = poly.fit_transform(X_train)\n",
        "\n",
        "# Apply polynomial transformation to val set\n",
        "X_test_poly = poly.transform(X_test)\n",
        "\n",
        "# Fit a model using polynomial features\n",
        "lr_poly = LinearRegression()\n",
        "lr_poly.fit(X_train_poly,y_train)\n",
        "print('Accuracy:', lr_poly.score(X_test_poly,y_test))\n",
        "print('Mean Absolute Error:', mean_absolute_error(lr_poly.predict(X_test_poly), y_test))  "
      ],
      "execution_count": null,
      "outputs": [
        {
          "name": "stdout",
          "output_type": "stream",
          "text": [
            "Accuracy: 0.22932063028130178\n",
            "Mean Absolute Error: 49.47831002814044\n"
          ]
        }
      ]
    },
    {
      "cell_type": "code",
      "metadata": {
        "id": "C0BWJfCFJYqT",
        "outputId": "2be435e0-86a8-43f7-985e-aeb5e6edeb1a"
      },
      "source": [
        "# Experiment 2: try different regularization models while selecting the best alpha \n",
        "alphas = np.linspace(0.001, 1, 100)\n",
        "kf = KFold(7, random_state=0, shuffle=True)\n",
        "params = {'alpha':alphas}\n",
        "gs = GridSearchCV(ElasticNet(), param_grid=params, cv=kf)\n",
        "m = gs.fit(X_train, y_train)\n",
        "print('Accuracy:', m.score(X_test, y_test))\n",
        "print('Mean Absolute Error:', mean_absolute_error(m.predict(X_test), y_test))  "
      ],
      "execution_count": null,
      "outputs": [
        {
          "name": "stdout",
          "output_type": "stream",
          "text": [
            "Accuracy: 0.20309116820311246\n",
            "Mean Absolute Error: 51.265400802503166\n"
          ]
        }
      ]
    }
  ]
}